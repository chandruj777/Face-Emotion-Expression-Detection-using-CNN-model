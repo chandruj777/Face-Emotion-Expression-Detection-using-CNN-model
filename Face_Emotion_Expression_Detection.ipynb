{
 "cells": [
  {
   "cell_type": "code",
   "execution_count": 1,
   "metadata": {},
   "outputs": [],
   "source": [
    "import pandas as pd\n",
    "import matplotlib.pyplot as plt\n",
    "import numpy as np\n",
    "import seaborn as sns\n",
    "import pathlib\n",
    "\n",
    "from sklearn.preprocessing import StandardScaler\n",
    "\n",
    "import cv2\n",
    "import tensorflow as tf\n",
    "from tensorflow import keras\n",
    "from keras.models import Sequential\n",
    "from keras.layers import Conv2D, MaxPooling2D, Dense, Dropout, Flatten\n",
    "from tensorflow.keras.preprocessing.image import load_img\n",
    "from tensorflow.keras.preprocessing.image import img_to_array\n",
    "from keras.preprocessing.image import ImageDataGenerator\n",
    "from keras.preprocessing import image\n",
    "from tensorflow.keras.preprocessing.image import load_img"
   ]
  },
  {
   "cell_type": "code",
   "execution_count": 2,
   "metadata": {},
   "outputs": [
    {
     "name": "stdout",
     "output_type": "stream",
     "text": [
      "C:\\Users\\USER\\Downloads\\images\\images\\train\n",
      "C:\\Users\\USER\\Downloads\\images\\images\\validation\n"
     ]
    }
   ],
   "source": [
    "train_data_dir = pathlib.Path(\"C:/Users/USER/Downloads/images/images/train\")\n",
    "print(train_data_dir)\n",
    "\n",
    "test_data_dir = pathlib.Path(\"C:/Users/USER/Downloads/images/images/validation\")\n",
    "print(test_data_dir)"
   ]
  },
  {
   "cell_type": "code",
   "execution_count": 3,
   "metadata": {},
   "outputs": [
    {
     "name": "stdout",
     "output_type": "stream",
     "text": [
      "Found 28821 images belonging to 7 classes.\n",
      "Found 7066 images belonging to 7 classes.\n"
     ]
    }
   ],
   "source": [
    "# Initialize image data generator with rescaling\n",
    "train_data_gen = ImageDataGenerator(rescale=1./255)\n",
    "validation_data_gen = ImageDataGenerator(rescale=1./255)\n",
    "\n",
    "# Preprocess all train images\n",
    "train_generator = train_data_gen.flow_from_directory(\n",
    "        r'C:\\Users\\USER\\Downloads\\Face Emotion Expression Detection\\Face_emotion_images\\images\\train',\n",
    "        target_size=(48, 48),\n",
    "        batch_size=64,\n",
    "        color_mode=\"grayscale\",\n",
    "        class_mode='categorical')\n",
    "\n",
    "# Preprocess all validation images\n",
    "validation_generator = validation_data_gen.flow_from_directory(\n",
    "        r'C:\\Users\\USER\\Downloads\\Face Emotion Expression Detection\\Face_emotion_images\\images\\validation',\n",
    "        target_size=(48, 48),\n",
    "        batch_size=64,\n",
    "        color_mode=\"grayscale\",\n",
    "        class_mode='categorical')\n",
    "#we read train and validation images of 4 pms and set the images to set parameters."
   ]
  },
  {
   "cell_type": "code",
   "execution_count": null,
   "metadata": {},
   "outputs": [],
   "source": [
    "#"
   ]
  },
  {
   "cell_type": "code",
   "execution_count": 4,
   "metadata": {},
   "outputs": [
    {
     "name": "stdout",
     "output_type": "stream",
     "text": [
      "Model: \"sequential\"\n",
      "_________________________________________________________________\n",
      " Layer (type)                Output Shape              Param #   \n",
      "=================================================================\n",
      " conv2d (Conv2D)             (None, 46, 46, 32)        320       \n",
      "                                                                 \n",
      " conv2d_1 (Conv2D)           (None, 44, 44, 64)        18496     \n",
      "                                                                 \n",
      " max_pooling2d (MaxPooling2D  (None, 22, 22, 64)       0         \n",
      " )                                                               \n",
      "                                                                 \n",
      " dropout (Dropout)           (None, 22, 22, 64)        0         \n",
      "                                                                 \n",
      " conv2d_2 (Conv2D)           (None, 20, 20, 128)       73856     \n",
      "                                                                 \n",
      " max_pooling2d_1 (MaxPooling  (None, 10, 10, 128)      0         \n",
      " 2D)                                                             \n",
      "                                                                 \n",
      " conv2d_3 (Conv2D)           (None, 8, 8, 128)         147584    \n",
      "                                                                 \n",
      " max_pooling2d_2 (MaxPooling  (None, 4, 4, 128)        0         \n",
      " 2D)                                                             \n",
      "                                                                 \n",
      " dropout_1 (Dropout)         (None, 4, 4, 128)         0         \n",
      "                                                                 \n",
      " flatten (Flatten)           (None, 2048)              0         \n",
      "                                                                 \n",
      " dense (Dense)               (None, 1024)              2098176   \n",
      "                                                                 \n",
      " dropout_2 (Dropout)         (None, 1024)              0         \n",
      "                                                                 \n",
      " dense_1 (Dense)             (None, 7)                 7175      \n",
      "                                                                 \n",
      "=================================================================\n",
      "Total params: 2,345,607\n",
      "Trainable params: 2,345,607\n",
      "Non-trainable params: 0\n",
      "_________________________________________________________________\n"
     ]
    },
    {
     "name": "stderr",
     "output_type": "stream",
     "text": [
      "<ipython-input-4-df2c55a2c096>:26: UserWarning: `Model.fit_generator` is deprecated and will be removed in a future version. Please use `Model.fit`, which supports generators.\n",
      "  emotion_model_info = emotion_model.fit_generator(\n"
     ]
    },
    {
     "name": "stdout",
     "output_type": "stream",
     "text": [
      "Epoch 1/15\n",
      "448/448 [==============================] - ETA: 0s - loss: 1.6956 - accuracy: 0.3146WARNING:tensorflow:Your input ran out of data; interrupting training. Make sure that your dataset or generator can generate at least `steps_per_epoch * epochs` batches (in this case, 112 batches). You may need to use the repeat() function when building your dataset.\n",
      "448/448 [==============================] - 180s 399ms/step - loss: 1.6956 - accuracy: 0.3146 - val_loss: 1.4929 - val_accuracy: 0.4281\n",
      "Epoch 2/15\n",
      "448/448 [==============================] - 131s 293ms/step - loss: 1.4130 - accuracy: 0.4542\n",
      "Epoch 3/15\n",
      "448/448 [==============================] - 130s 290ms/step - loss: 1.2796 - accuracy: 0.5114\n",
      "Epoch 4/15\n",
      "448/448 [==============================] - 135s 302ms/step - loss: 1.2068 - accuracy: 0.5389\n",
      "Epoch 5/15\n",
      "448/448 [==============================] - 133s 296ms/step - loss: 1.1566 - accuracy: 0.5613\n",
      "Epoch 6/15\n",
      "448/448 [==============================] - 138s 308ms/step - loss: 1.1143 - accuracy: 0.5796\n",
      "Epoch 7/15\n",
      "448/448 [==============================] - 137s 305ms/step - loss: 1.0637 - accuracy: 0.5978\n",
      "Epoch 8/15\n",
      "448/448 [==============================] - 147s 328ms/step - loss: 1.0251 - accuracy: 0.6116\n",
      "Epoch 9/15\n",
      "448/448 [==============================] - 183s 409ms/step - loss: 0.9924 - accuracy: 0.6231\n",
      "Epoch 10/15\n",
      "448/448 [==============================] - 140s 312ms/step - loss: 0.9483 - accuracy: 0.6468\n",
      "Epoch 11/15\n",
      "448/448 [==============================] - 153s 343ms/step - loss: 0.9177 - accuracy: 0.6550\n",
      "Epoch 12/15\n",
      "448/448 [==============================] - 176s 393ms/step - loss: 0.8773 - accuracy: 0.6675\n",
      "Epoch 13/15\n",
      "448/448 [==============================] - 155s 347ms/step - loss: 0.8416 - accuracy: 0.6850\n",
      "Epoch 14/15\n",
      "448/448 [==============================] - 138s 307ms/step - loss: 0.8178 - accuracy: 0.6915\n",
      "Epoch 15/15\n",
      "448/448 [==============================] - 136s 303ms/step - loss: 0.7819 - accuracy: 0.7098\n"
     ]
    }
   ],
   "source": [
    "# create model structure\n",
    "emotion_model = Sequential([\n",
    "    Conv2D(32, kernel_size=(3, 3), activation='relu', input_shape=(48, 48, 1)),\n",
    "    Conv2D(64, kernel_size=(3, 3), activation='relu'),\n",
    "    MaxPooling2D(pool_size=(2, 2)),\n",
    "    Dropout(0.25),\n",
    "\n",
    "    Conv2D(128, kernel_size=(3, 3), activation='relu'),\n",
    "    MaxPooling2D(pool_size=(2, 2)),\n",
    "    Conv2D(128, kernel_size=(3, 3), activation='relu'),\n",
    "    MaxPooling2D(pool_size=(2, 2)),\n",
    "    Dropout(0.25),\n",
    "\n",
    "    Flatten(),\n",
    "    Dense(1024, activation='relu'),\n",
    "    Dropout(0.5),\n",
    "    Dense(7, activation='softmax')\n",
    "])\n",
    "\n",
    "emotion_model.compile(optimizer='adam',\n",
    "              loss=\"categorical_crossentropy\",\n",
    "              metrics=['accuracy'])\n",
    "\n",
    "emotion_model.summary()\n",
    "# Train the neural network/model ..try using model.fit()\n",
    "emotion_model_info = emotion_model.fit_generator(\n",
    "        train_generator,\n",
    "        steps_per_epoch=28709 // 64,\n",
    "        epochs=15,\n",
    "        validation_data=validation_generator,\n",
    "        validation_steps=7178 // 64)"
   ]
  },
  {
   "cell_type": "code",
   "execution_count": 5,
   "metadata": {},
   "outputs": [
    {
     "name": "stdout",
     "output_type": "stream",
     "text": [
      "dict_keys(['loss', 'accuracy', 'val_loss', 'val_accuracy'])\n"
     ]
    }
   ],
   "source": [
    "print(emotion_model_info.history.keys())"
   ]
  },
  {
   "cell_type": "code",
   "execution_count": 6,
   "metadata": {},
   "outputs": [
    {
     "data": {
      "image/png": "[encoded data removed]",
      "text/plain": [
       "<Figure size 1296x432 with 2 Axes>"
      ]
     },
     "metadata": {
      "needs_background": "light"
     },
     "output_type": "display_data"
    }
   ],
   "source": [
    "import matplotlib.pyplot as plt\n",
    "fig, axes = plt.subplots(1,2, figsize=(18, 6))\n",
    "# Plot training & validation accuracy values\n",
    "axes[0].plot(emotion_model_info.history['accuracy'])\n",
    "axes[0].plot(emotion_model_info.history['val_accuracy'])\n",
    "axes[0].set_title('Model accuracy')\n",
    "axes[0].set_ylabel('Accuracy')\n",
    "axes[0].set_xlabel('Epoch')\n",
    "axes[0].legend(['Train', 'Validation'], loc='upper left')\n",
    "\n",
    "# Plot training & validation loss values\n",
    "axes[1].plot(emotion_model_info.history['loss'])\n",
    "axes[1].plot(emotion_model_info.history['val_loss'])\n",
    "axes[1].set_title('Model loss')\n",
    "axes[1].set_ylabel('Loss')\n",
    "axes[1].set_xlabel('Epoch')\n",
    "axes[1].legend(['Train', 'Validation'], loc='upper left')\n",
    "plt.show()\n"
   ]
  },
  {
   "cell_type": "code",
   "execution_count": 7,
   "metadata": {},
   "outputs": [],
   "source": [
    "emotion_model.save('facial_emotions_model.h5')"
   ]
  },
  {
   "cell_type": "code",
   "execution_count": 9,
   "metadata": {},
   "outputs": [
    {
     "name": "stdout",
     "output_type": "stream",
     "text": [
      "(48, 48, 1)\n"
     ]
    },
    {
     "data": {
      "image/png": "[encoded data removed]",
      "text/plain": [
       "<Figure size 432x288 with 1 Axes>"
      ]
     },
     "metadata": {
      "needs_background": "light"
     },
     "output_type": "display_data"
    }
   ],
   "source": [
    "from tensorflow.keras.preprocessing import image\n",
    "img_path=r'C:\\Users\\USER\\Downloads\\Face Emotion Expression Detection\\Face_emotion_images\\images\\validation\\surprise/176.jpg'\n",
    "test_image=image.load_img(img_path,target_size=(48,48),color_mode='grayscale')\n",
    "test_image=image.img_to_array(test_image)\n",
    "print(test_image.shape)\n",
    "plt.imshow(test_image)\n",
    "plt.show()"
   ]
  },
  {
   "cell_type": "code",
   "execution_count": 10,
   "metadata": {},
   "outputs": [
    {
     "name": "stdout",
     "output_type": "stream",
     "text": [
      "1/1 [==============================] - 0s 131ms/step\n",
      "[0. 0. 0. 0. 0. 0. 1.]\n",
      "The person facial emotion is: Surprise\n"
     ]
    }
   ],
   "source": [
    "test_image=test_image.reshape(1,48,48,1)\n",
    "classes=['Angry','Disgust','Fear','Happy','Neutral','Sad','Surprise']\n",
    "result=emotion_model.predict(test_image)\n",
    "print(result[0])\n",
    "y_pred=np.argmax(result[0])\n",
    "print('The person facial emotion is:',classes[y_pred])"
   ]
  },
  {
   "cell_type": "code",
   "execution_count": null,
   "metadata": {},
   "outputs": [],
   "source": []
  },
  {
   "cell_type": "code",
   "execution_count": null,
   "metadata": {},
   "outputs": [],
   "source": []
  }
 ],
 "metadata": {
  "kernelspec": {
   "display_name": "Python 3",
   "language": "python",
   "name": "python3"
  },
  "language_info": {
   "codemirror_mode": {
    "name": "ipython",
    "version": 3
   },
   "file_extension": ".py",
   "mimetype": "text/x-python",
   "name": "python",
   "nbconvert_exporter": "python",
   "pygments_lexer": "ipython3",
   "version": "3.8.5"
  }
 },
 "nbformat": 4,
 "nbformat_minor": 5
}
